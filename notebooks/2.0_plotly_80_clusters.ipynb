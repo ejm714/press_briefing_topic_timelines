{
 "cells": [
  {
   "cell_type": "code",
   "execution_count": 28,
   "metadata": {
    "collapsed": false
   },
   "outputs": [],
   "source": [
    "import plotly \n",
    "plotly.tools.set_credentials_file(username='ejm714', api_key= 'ohgBSCnumte62E054FU9')"
   ]
  },
  {
   "cell_type": "code",
   "execution_count": 29,
   "metadata": {
    "collapsed": false
   },
   "outputs": [],
   "source": [
    "import pandas as pd\n",
    "import numpy as np\n",
    "import cufflinks as cf"
   ]
  },
  {
   "cell_type": "code",
   "execution_count": 49,
   "metadata": {
    "collapsed": false
   },
   "outputs": [],
   "source": [
    "df = pd.read_csv('lsa_kmeans_cluster_3.csv')"
   ]
  },
  {
   "cell_type": "code",
   "execution_count": 50,
   "metadata": {
    "collapsed": false
   },
   "outputs": [],
   "source": [
    "df.drop('Unnamed: 0', axis = 1, inplace = True)"
   ]
  },
  {
   "cell_type": "code",
   "execution_count": 51,
   "metadata": {
    "collapsed": true
   },
   "outputs": [],
   "source": [
    "# 79 = iraq\n",
    "# 76 = afghanistan\n",
    "# 75 = russia/ukraine\n",
    "# 73 = senate nomination\n",
    "# 66 = syria\n",
    "# 65 = congress\n",
    "# 63 = fbi investigation\n",
    "# 61 = clinton emails\n",
    "# 53 = healthcare\n",
    "# 49 = iran nuclear deal\n",
    "# 41 = iran sanctions\n",
    "# 15 = law enforcement\n",
    "# 11 = economy\n",
    "# 9 = immigration reform\n",
    "# 2 = isis\n",
    "# 0 = israel\n",
    "\n",
    "## 8 = bills/legislation/congress\n",
    "## 64 = national security\n",
    "## 12 = end wars"
   ]
  },
  {
   "cell_type": "code",
   "execution_count": 52,
   "metadata": {
    "collapsed": true
   },
   "outputs": [],
   "source": [
    "df = df[['week_start', '79', '76', '75', '73', '66', '65', '63', '61', '53', '49', '41', '15', '11', '9', '2', '0']]"
   ]
  },
  {
   "cell_type": "code",
   "execution_count": 53,
   "metadata": {
    "collapsed": true
   },
   "outputs": [],
   "source": [
    "df.set_index('week_start', inplace = True)"
   ]
  },
  {
   "cell_type": "code",
   "execution_count": 75,
   "metadata": {
    "collapsed": true
   },
   "outputs": [],
   "source": [
    "df.columns = ['Iraq', 'Afghanistan', 'Russia/Ukraine', 'Senate/nomination', 'Syria', 'Congress/legislation',\\\n",
    "              'FBI investigation', 'Clinton', 'Healthcare', 'Iran nuclear deal', \\\n",
    "             'Sanctions', 'Law enforcement', 'Economy', 'Immigration reform', 'ISIS', 'Israel']"
   ]
  },
  {
   "cell_type": "code",
   "execution_count": 77,
   "metadata": {
    "collapsed": false
   },
   "outputs": [
    {
     "data": {
      "text/html": [
       "<div>\n",
       "<table border=\"1\" class=\"dataframe\">\n",
       "  <thead>\n",
       "    <tr style=\"text-align: right;\">\n",
       "      <th></th>\n",
       "      <th>Iraq</th>\n",
       "      <th>Afghanistan</th>\n",
       "      <th>Russia/Ukraine</th>\n",
       "      <th>Senate/nomination</th>\n",
       "      <th>Syria</th>\n",
       "      <th>Congress/legislation</th>\n",
       "      <th>FBI investigation</th>\n",
       "      <th>Clinton</th>\n",
       "      <th>Healthcare</th>\n",
       "      <th>Iran nuclear deal</th>\n",
       "      <th>Sanctions</th>\n",
       "      <th>Law enforcement</th>\n",
       "      <th>Economy</th>\n",
       "      <th>Immigration reform</th>\n",
       "      <th>ISIS</th>\n",
       "      <th>Israel</th>\n",
       "    </tr>\n",
       "    <tr>\n",
       "      <th>week_start</th>\n",
       "      <th></th>\n",
       "      <th></th>\n",
       "      <th></th>\n",
       "      <th></th>\n",
       "      <th></th>\n",
       "      <th></th>\n",
       "      <th></th>\n",
       "      <th></th>\n",
       "      <th></th>\n",
       "      <th></th>\n",
       "      <th></th>\n",
       "      <th></th>\n",
       "      <th></th>\n",
       "      <th></th>\n",
       "      <th></th>\n",
       "      <th></th>\n",
       "    </tr>\n",
       "  </thead>\n",
       "  <tbody>\n",
       "    <tr>\n",
       "      <th>2013-01-21</th>\n",
       "      <td>0.0</td>\n",
       "      <td>4.0</td>\n",
       "      <td>0.0</td>\n",
       "      <td>9.0</td>\n",
       "      <td>7.0</td>\n",
       "      <td>17.0</td>\n",
       "      <td>3.0</td>\n",
       "      <td>11.0</td>\n",
       "      <td>2.0</td>\n",
       "      <td>5.0</td>\n",
       "      <td>0.0</td>\n",
       "      <td>1.0</td>\n",
       "      <td>25.0</td>\n",
       "      <td>17.0</td>\n",
       "      <td>1.0</td>\n",
       "      <td>8.0</td>\n",
       "    </tr>\n",
       "    <tr>\n",
       "      <th>2013-01-28</th>\n",
       "      <td>1.0</td>\n",
       "      <td>3.0</td>\n",
       "      <td>0.0</td>\n",
       "      <td>32.0</td>\n",
       "      <td>16.0</td>\n",
       "      <td>12.0</td>\n",
       "      <td>2.0</td>\n",
       "      <td>8.0</td>\n",
       "      <td>3.0</td>\n",
       "      <td>10.0</td>\n",
       "      <td>2.0</td>\n",
       "      <td>11.0</td>\n",
       "      <td>52.0</td>\n",
       "      <td>30.0</td>\n",
       "      <td>0.0</td>\n",
       "      <td>1.0</td>\n",
       "    </tr>\n",
       "    <tr>\n",
       "      <th>2013-02-04</th>\n",
       "      <td>0.0</td>\n",
       "      <td>2.0</td>\n",
       "      <td>0.0</td>\n",
       "      <td>15.0</td>\n",
       "      <td>3.0</td>\n",
       "      <td>33.0</td>\n",
       "      <td>1.0</td>\n",
       "      <td>4.0</td>\n",
       "      <td>6.0</td>\n",
       "      <td>0.0</td>\n",
       "      <td>0.0</td>\n",
       "      <td>5.0</td>\n",
       "      <td>39.0</td>\n",
       "      <td>28.0</td>\n",
       "      <td>2.0</td>\n",
       "      <td>1.0</td>\n",
       "    </tr>\n",
       "    <tr>\n",
       "      <th>2013-02-11</th>\n",
       "      <td>0.0</td>\n",
       "      <td>2.0</td>\n",
       "      <td>0.0</td>\n",
       "      <td>23.0</td>\n",
       "      <td>0.0</td>\n",
       "      <td>7.0</td>\n",
       "      <td>0.0</td>\n",
       "      <td>3.0</td>\n",
       "      <td>0.0</td>\n",
       "      <td>4.0</td>\n",
       "      <td>1.0</td>\n",
       "      <td>1.0</td>\n",
       "      <td>6.0</td>\n",
       "      <td>10.0</td>\n",
       "      <td>0.0</td>\n",
       "      <td>0.0</td>\n",
       "    </tr>\n",
       "    <tr>\n",
       "      <th>2013-02-18</th>\n",
       "      <td>0.0</td>\n",
       "      <td>0.0</td>\n",
       "      <td>0.0</td>\n",
       "      <td>19.0</td>\n",
       "      <td>2.0</td>\n",
       "      <td>31.0</td>\n",
       "      <td>0.0</td>\n",
       "      <td>57.0</td>\n",
       "      <td>2.0</td>\n",
       "      <td>0.0</td>\n",
       "      <td>0.0</td>\n",
       "      <td>4.0</td>\n",
       "      <td>23.0</td>\n",
       "      <td>28.0</td>\n",
       "      <td>5.0</td>\n",
       "      <td>4.0</td>\n",
       "    </tr>\n",
       "  </tbody>\n",
       "</table>\n",
       "</div>"
      ],
      "text/plain": [
       "            Iraq  Afghanistan  Russia/Ukraine  Senate/nomination  Syria  \\\n",
       "week_start                                                                \n",
       "2013-01-21   0.0          4.0             0.0                9.0    7.0   \n",
       "2013-01-28   1.0          3.0             0.0               32.0   16.0   \n",
       "2013-02-04   0.0          2.0             0.0               15.0    3.0   \n",
       "2013-02-11   0.0          2.0             0.0               23.0    0.0   \n",
       "2013-02-18   0.0          0.0             0.0               19.0    2.0   \n",
       "\n",
       "            Congress/legislation  FBI investigation  Clinton  Healthcare  \\\n",
       "week_start                                                                 \n",
       "2013-01-21                  17.0                3.0     11.0         2.0   \n",
       "2013-01-28                  12.0                2.0      8.0         3.0   \n",
       "2013-02-04                  33.0                1.0      4.0         6.0   \n",
       "2013-02-11                   7.0                0.0      3.0         0.0   \n",
       "2013-02-18                  31.0                0.0     57.0         2.0   \n",
       "\n",
       "            Iran nuclear deal  Sanctions  Law enforcement  Economy  \\\n",
       "week_start                                                           \n",
       "2013-01-21                5.0        0.0              1.0     25.0   \n",
       "2013-01-28               10.0        2.0             11.0     52.0   \n",
       "2013-02-04                0.0        0.0              5.0     39.0   \n",
       "2013-02-11                4.0        1.0              1.0      6.0   \n",
       "2013-02-18                0.0        0.0              4.0     23.0   \n",
       "\n",
       "            Immigration reform  ISIS  Israel  \n",
       "week_start                                    \n",
       "2013-01-21                17.0   1.0     8.0  \n",
       "2013-01-28                30.0   0.0     1.0  \n",
       "2013-02-04                28.0   2.0     1.0  \n",
       "2013-02-11                10.0   0.0     0.0  \n",
       "2013-02-18                28.0   5.0     4.0  "
      ]
     },
     "execution_count": 77,
     "metadata": {},
     "output_type": "execute_result"
    }
   ],
   "source": [
    "df.head()"
   ]
  },
  {
   "cell_type": "code",
   "execution_count": 78,
   "metadata": {
    "collapsed": true
   },
   "outputs": [],
   "source": [
    "df2 = pd.read_csv('words_per_cluster_3.csv')"
   ]
  },
  {
   "cell_type": "code",
   "execution_count": 79,
   "metadata": {
    "collapsed": true
   },
   "outputs": [],
   "source": [
    "df2.drop('Unnamed: 0', axis =1, inplace = True)"
   ]
  },
  {
   "cell_type": "code",
   "execution_count": 80,
   "metadata": {
    "collapsed": false
   },
   "outputs": [
    {
     "data": {
      "text/plain": [
       "(80, 20)"
      ]
     },
     "execution_count": 80,
     "metadata": {},
     "output_type": "execute_result"
    }
   ],
   "source": [
    "df2.shape"
   ]
  },
  {
   "cell_type": "code",
   "execution_count": 81,
   "metadata": {
    "collapsed": true
   },
   "outputs": [],
   "source": [
    "word_list = pd.Series(df2[df2.columns[0:]].apply(lambda x: ', '.join(x),axis=1))"
   ]
  },
  {
   "cell_type": "code",
   "execution_count": 82,
   "metadata": {
    "collapsed": false
   },
   "outputs": [
    {
     "data": {
      "text/plain": [
       "0    prim, min, israel, presid, netanyahu, ind, vis...\n",
       "1    report, seen, hav, mr, thi, ther, releas, iv, ...\n",
       "2    isil, jon, fight, strategy, syr, coalit, hav, ...\n",
       "3    aboard, chris, air_force_one, start, just, say...\n",
       "4    discuss, issu, presid, hav, thi, wil, ther, mr...\n",
       "dtype: object"
      ]
     },
     "execution_count": 82,
     "metadata": {},
     "output_type": "execute_result"
    }
   ],
   "source": [
    "word_list.head()"
   ]
  },
  {
   "cell_type": "code",
   "execution_count": null,
   "metadata": {
    "collapsed": true
   },
   "outputs": [],
   "source": []
  },
  {
   "cell_type": "code",
   "execution_count": 83,
   "metadata": {
    "collapsed": false
   },
   "outputs": [
    {
     "data": {
      "text/plain": [
       "'https://plot.ly/~ejm714/25'"
      ]
     },
     "execution_count": 83,
     "metadata": {},
     "output_type": "execute_result"
    }
   ],
   "source": [
    "df.iplot(fill=True, title = 'Obama Administration Topic Timelines<br>(as seen through press briefings)', \\\n",
    "         yTitle = 'Prevalence', \\\n",
    "         y = ['Iraq', 'Afghanistan', 'Russia/Ukraine', 'Senate/nomination', 'Syria', 'Congress/legislation',\\\n",
    "              'FBI investigation', 'Clinton', 'Healthcare', 'Iran nuclear deal', \\\n",
    "             'Sanctions', 'Law enforcement', 'Economy', 'Immigration reform', 'ISIS', 'Israel'], \\\n",
    "         world_readable = True, asUrl = True)"
   ]
  },
  {
   "cell_type": "code",
   "execution_count": 91,
   "metadata": {
    "collapsed": false
   },
   "outputs": [
    {
     "data": {
      "text/plain": [
       "'econom, job, grow, cre, presid, invest, hav, middl, ar, class, thi, help, busy, opportun, wil, impact, deficit, mor, work, benefit'"
      ]
     },
     "execution_count": 91,
     "metadata": {},
     "output_type": "execute_result"
    }
   ],
   "source": [
    "word_list[11]"
   ]
  },
  {
   "cell_type": "code",
   "execution_count": 102,
   "metadata": {
    "collapsed": false
   },
   "outputs": [
    {
     "name": "stdout",
     "output_type": "stream",
     "text": [
      "isil\n",
      "jon\n",
      "fight\n",
      "strategy\n",
      "syr\n",
      "coalit\n",
      "hav\n",
      "threat\n",
      "milit\n",
      "ar\n",
      "iraq\n",
      "effort\n",
      "forc\n",
      "thi\n",
      "ultim\n",
      "ter\n",
      "degrad\n",
      "tak\n",
      "destroy\n",
      "success\n"
     ]
    }
   ],
   "source": [
    "for word in word_list[2].split(', '):\n",
    "    print(word)"
   ]
  },
  {
   "cell_type": "code",
   "execution_count": null,
   "metadata": {
    "collapsed": true
   },
   "outputs": [],
   "source": []
  }
 ],
 "metadata": {
  "kernelspec": {
   "display_name": "Python 3",
   "language": "python",
   "name": "python3"
  },
  "language_info": {
   "codemirror_mode": {
    "name": "ipython",
    "version": 3
   },
   "file_extension": ".py",
   "mimetype": "text/x-python",
   "name": "python",
   "nbconvert_exporter": "python",
   "pygments_lexer": "ipython3",
   "version": "3.6.0"
  }
 },
 "nbformat": 4,
 "nbformat_minor": 2
}
